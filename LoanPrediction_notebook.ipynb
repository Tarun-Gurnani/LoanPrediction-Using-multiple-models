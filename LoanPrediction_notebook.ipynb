{
    "cells": [
        {
            "metadata": {
                "collapsed": true
            },
            "cell_type": "markdown",
            "source": "# LOAN PREDICTION DATASET"
        },
        {
            "metadata": {},
            "cell_type": "markdown",
            "source": "Among all industries, the insurance domain has one of the largest uses of analytics & data science methods. This dataset provides you a taste of working on data sets from insurance companies \u2013 what challenges are faced there, what strategies are used, which variables influence the outcome, etc. This is a classification problem. The data has 615 rows and 13 columns."
        },
        {
            "metadata": {},
            "cell_type": "markdown",
            "source": "### Required libraries"
        },
        {
            "metadata": {},
            "cell_type": "code",
            "source": "#Import required libraries for data analysis and wrangling\n\nimport pandas as pd\nimport numpy as np\nimport random as rnd \n\n# Impord required libraries for data visualization\n\nimport seaborn as sns\nimport matplotlib.pyplot as plt\n%matplotlib inline\n\n#Import required ML libraries\n\nfrom sklearn.linear_model import LogisticRegression\nfrom sklearn.svm import SVC, LinearSVC\nfrom sklearn.ensemble import RandomForestClassifier\nfrom sklearn.neighbors import KNeighborsClassifier\nfrom sklearn.naive_bayes import GaussianNB\nfrom sklearn.linear_model import Perceptron\nfrom sklearn.linear_model import SGDClassifier\nfrom sklearn.tree import DecisionTreeClassifier\nfrom sklearn.metrics import accuracy_score\nfrom sklearn.preprocessing import LabelEncoder",
            "execution_count": 65,
            "outputs": []
        },
        {
            "metadata": {},
            "cell_type": "markdown",
            "source": "### read the datasets"
        },
        {
            "metadata": {},
            "cell_type": "code",
            "source": "\nimport types\nimport pandas as pd\nfrom botocore.client import Config\nimport ibm_boto3\n\ndef __iter__(self): return 0\n\n# @hidden_cell\n# The following code accesses a file in your IBM Cloud Object Storage. It includes your credentials.\n# You might want to remove those credentials before you share the notebook.\nclient_9bbfa4ab4e0548258fb2cc9e70eef4a9 = ibm_boto3.client(service_name='s3',\n    ibm_api_key_id='golVVT44CVe8IcH4xyb6bpf4Pjr4jb7o5z_cgqpKXsbL',\n    ibm_auth_endpoint=\"https://iam.au-syd.bluemix.net/oidc/token\",\n    config=Config(signature_version='oauth'),\n    endpoint_url='https://s3.ap-geo.objectstorage.service.networklayer.com')\n\nbody = client_9bbfa4ab4e0548258fb2cc9e70eef4a9.get_object(Bucket='loanpredictionmodel-donotdelete-pr-wwcz4ixhsdedie',Key='train_data.csv')['Body']\n# add missing __iter__ method, so pandas accepts body as file-like object\nif not hasattr(body, \"__iter__\"): body.__iter__ = types.MethodType( __iter__, body )\n\n# If you are reading an Excel file into a pandas DataFrame, replace `read_csv` by `read_excel` in the next statement.\ntrain_data = pd.read_csv(body)\ntrain_data.head()\n",
            "execution_count": 2,
            "outputs": [
                {
                    "output_type": "execute_result",
                    "execution_count": 2,
                    "data": {
                        "text/plain": "    Loan_ID Gender Married Dependents     Education Self_Employed  \\\n0  LP001002   Male      No          0      Graduate            No   \n1  LP001003   Male     Yes          1      Graduate            No   \n2  LP001005   Male     Yes          0      Graduate           Yes   \n3  LP001006   Male     Yes          0  Not Graduate            No   \n4  LP001008   Male      No          0      Graduate            No   \n\n   ApplicantIncome  CoapplicantIncome  LoanAmount  Loan_Amount_Term  \\\n0             5849                0.0         NaN             360.0   \n1             4583             1508.0       128.0             360.0   \n2             3000                0.0        66.0             360.0   \n3             2583             2358.0       120.0             360.0   \n4             6000                0.0       141.0             360.0   \n\n   Credit_History Property_Area Loan_Status  \n0             1.0         Urban           Y  \n1             1.0         Rural           N  \n2             1.0         Urban           Y  \n3             1.0         Urban           Y  \n4             1.0         Urban           Y  ",
                        "text/html": "<div>\n<style scoped>\n    .dataframe tbody tr th:only-of-type {\n        vertical-align: middle;\n    }\n\n    .dataframe tbody tr th {\n        vertical-align: top;\n    }\n\n    .dataframe thead th {\n        text-align: right;\n    }\n</style>\n<table border=\"1\" class=\"dataframe\">\n  <thead>\n    <tr style=\"text-align: right;\">\n      <th></th>\n      <th>Loan_ID</th>\n      <th>Gender</th>\n      <th>Married</th>\n      <th>Dependents</th>\n      <th>Education</th>\n      <th>Self_Employed</th>\n      <th>ApplicantIncome</th>\n      <th>CoapplicantIncome</th>\n      <th>LoanAmount</th>\n      <th>Loan_Amount_Term</th>\n      <th>Credit_History</th>\n      <th>Property_Area</th>\n      <th>Loan_Status</th>\n    </tr>\n  </thead>\n  <tbody>\n    <tr>\n      <th>0</th>\n      <td>LP001002</td>\n      <td>Male</td>\n      <td>No</td>\n      <td>0</td>\n      <td>Graduate</td>\n      <td>No</td>\n      <td>5849</td>\n      <td>0.0</td>\n      <td>NaN</td>\n      <td>360.0</td>\n      <td>1.0</td>\n      <td>Urban</td>\n      <td>Y</td>\n    </tr>\n    <tr>\n      <th>1</th>\n      <td>LP001003</td>\n      <td>Male</td>\n      <td>Yes</td>\n      <td>1</td>\n      <td>Graduate</td>\n      <td>No</td>\n      <td>4583</td>\n      <td>1508.0</td>\n      <td>128.0</td>\n      <td>360.0</td>\n      <td>1.0</td>\n      <td>Rural</td>\n      <td>N</td>\n    </tr>\n    <tr>\n      <th>2</th>\n      <td>LP001005</td>\n      <td>Male</td>\n      <td>Yes</td>\n      <td>0</td>\n      <td>Graduate</td>\n      <td>Yes</td>\n      <td>3000</td>\n      <td>0.0</td>\n      <td>66.0</td>\n      <td>360.0</td>\n      <td>1.0</td>\n      <td>Urban</td>\n      <td>Y</td>\n    </tr>\n    <tr>\n      <th>3</th>\n      <td>LP001006</td>\n      <td>Male</td>\n      <td>Yes</td>\n      <td>0</td>\n      <td>Not Graduate</td>\n      <td>No</td>\n      <td>2583</td>\n      <td>2358.0</td>\n      <td>120.0</td>\n      <td>360.0</td>\n      <td>1.0</td>\n      <td>Urban</td>\n      <td>Y</td>\n    </tr>\n    <tr>\n      <th>4</th>\n      <td>LP001008</td>\n      <td>Male</td>\n      <td>No</td>\n      <td>0</td>\n      <td>Graduate</td>\n      <td>No</td>\n      <td>6000</td>\n      <td>0.0</td>\n      <td>141.0</td>\n      <td>360.0</td>\n      <td>1.0</td>\n      <td>Urban</td>\n      <td>Y</td>\n    </tr>\n  </tbody>\n</table>\n</div>"
                    },
                    "metadata": {}
                }
            ]
        },
        {
            "metadata": {},
            "cell_type": "code",
            "source": "\nbody = client_9bbfa4ab4e0548258fb2cc9e70eef4a9.get_object(Bucket='loanpredictionmodel-donotdelete-pr-wwcz4ixhsdedie',Key='test_data.csv')['Body']\n# add missing __iter__ method, so pandas accepts body as file-like object\nif not hasattr(body, \"__iter__\"): body.__iter__ = types.MethodType( __iter__, body )\n\n# If you are reading an Excel file into a pandas DataFrame, replace `read_csv` by `read_excel` in the next statement.\ntest_data = pd.read_csv(body)\ntest_data.head()\n",
            "execution_count": 3,
            "outputs": [
                {
                    "output_type": "execute_result",
                    "execution_count": 3,
                    "data": {
                        "text/plain": "    Loan_ID Gender Married Dependents     Education Self_Employed  \\\n0  LP001015   Male     Yes          0      Graduate            No   \n1  LP001022   Male     Yes          1      Graduate            No   \n2  LP001031   Male     Yes          2      Graduate            No   \n3  LP001035   Male     Yes          2      Graduate            No   \n4  LP001051   Male      No          0  Not Graduate            No   \n\n   ApplicantIncome  CoapplicantIncome  LoanAmount  Loan_Amount_Term  \\\n0             5720                  0       110.0             360.0   \n1             3076               1500       126.0             360.0   \n2             5000               1800       208.0             360.0   \n3             2340               2546       100.0             360.0   \n4             3276                  0        78.0             360.0   \n\n   Credit_History Property_Area  \n0             1.0         Urban  \n1             1.0         Urban  \n2             1.0         Urban  \n3             NaN         Urban  \n4             1.0         Urban  ",
                        "text/html": "<div>\n<style scoped>\n    .dataframe tbody tr th:only-of-type {\n        vertical-align: middle;\n    }\n\n    .dataframe tbody tr th {\n        vertical-align: top;\n    }\n\n    .dataframe thead th {\n        text-align: right;\n    }\n</style>\n<table border=\"1\" class=\"dataframe\">\n  <thead>\n    <tr style=\"text-align: right;\">\n      <th></th>\n      <th>Loan_ID</th>\n      <th>Gender</th>\n      <th>Married</th>\n      <th>Dependents</th>\n      <th>Education</th>\n      <th>Self_Employed</th>\n      <th>ApplicantIncome</th>\n      <th>CoapplicantIncome</th>\n      <th>LoanAmount</th>\n      <th>Loan_Amount_Term</th>\n      <th>Credit_History</th>\n      <th>Property_Area</th>\n    </tr>\n  </thead>\n  <tbody>\n    <tr>\n      <th>0</th>\n      <td>LP001015</td>\n      <td>Male</td>\n      <td>Yes</td>\n      <td>0</td>\n      <td>Graduate</td>\n      <td>No</td>\n      <td>5720</td>\n      <td>0</td>\n      <td>110.0</td>\n      <td>360.0</td>\n      <td>1.0</td>\n      <td>Urban</td>\n    </tr>\n    <tr>\n      <th>1</th>\n      <td>LP001022</td>\n      <td>Male</td>\n      <td>Yes</td>\n      <td>1</td>\n      <td>Graduate</td>\n      <td>No</td>\n      <td>3076</td>\n      <td>1500</td>\n      <td>126.0</td>\n      <td>360.0</td>\n      <td>1.0</td>\n      <td>Urban</td>\n    </tr>\n    <tr>\n      <th>2</th>\n      <td>LP001031</td>\n      <td>Male</td>\n      <td>Yes</td>\n      <td>2</td>\n      <td>Graduate</td>\n      <td>No</td>\n      <td>5000</td>\n      <td>1800</td>\n      <td>208.0</td>\n      <td>360.0</td>\n      <td>1.0</td>\n      <td>Urban</td>\n    </tr>\n    <tr>\n      <th>3</th>\n      <td>LP001035</td>\n      <td>Male</td>\n      <td>Yes</td>\n      <td>2</td>\n      <td>Graduate</td>\n      <td>No</td>\n      <td>2340</td>\n      <td>2546</td>\n      <td>100.0</td>\n      <td>360.0</td>\n      <td>NaN</td>\n      <td>Urban</td>\n    </tr>\n    <tr>\n      <th>4</th>\n      <td>LP001051</td>\n      <td>Male</td>\n      <td>No</td>\n      <td>0</td>\n      <td>Not Graduate</td>\n      <td>No</td>\n      <td>3276</td>\n      <td>0</td>\n      <td>78.0</td>\n      <td>360.0</td>\n      <td>1.0</td>\n      <td>Urban</td>\n    </tr>\n  </tbody>\n</table>\n</div>"
                    },
                    "metadata": {}
                }
            ]
        },
        {
            "metadata": {},
            "cell_type": "code",
            "source": "test_data.shape",
            "execution_count": 4,
            "outputs": [
                {
                    "output_type": "execute_result",
                    "execution_count": 4,
                    "data": {
                        "text/plain": "(367, 12)"
                    },
                    "metadata": {}
                }
            ]
        },
        {
            "metadata": {},
            "cell_type": "code",
            "source": "train_data.shape",
            "execution_count": 5,
            "outputs": [
                {
                    "output_type": "execute_result",
                    "execution_count": 5,
                    "data": {
                        "text/plain": "(614, 13)"
                    },
                    "metadata": {}
                }
            ]
        },
        {
            "metadata": {},
            "cell_type": "markdown",
            "source": "#### Combine whole data for future processing"
        },
        {
            "metadata": {},
            "cell_type": "code",
            "source": "combine = [train_data,test_data]",
            "execution_count": 6,
            "outputs": []
        },
        {
            "metadata": {},
            "cell_type": "code",
            "source": "train_data.columns.values",
            "execution_count": 7,
            "outputs": [
                {
                    "output_type": "execute_result",
                    "execution_count": 7,
                    "data": {
                        "text/plain": "array(['Loan_ID', 'Gender', 'Married', 'Dependents', 'Education',\n       'Self_Employed', 'ApplicantIncome', 'CoapplicantIncome',\n       'LoanAmount', 'Loan_Amount_Term', 'Credit_History',\n       'Property_Area', 'Loan_Status'], dtype=object)"
                    },
                    "metadata": {}
                }
            ]
        },
        {
            "metadata": {},
            "cell_type": "code",
            "source": "test_data.columns.values",
            "execution_count": 8,
            "outputs": [
                {
                    "output_type": "execute_result",
                    "execution_count": 8,
                    "data": {
                        "text/plain": "array(['Loan_ID', 'Gender', 'Married', 'Dependents', 'Education',\n       'Self_Employed', 'ApplicantIncome', 'CoapplicantIncome',\n       'LoanAmount', 'Loan_Amount_Term', 'Credit_History',\n       'Property_Area'], dtype=object)"
                    },
                    "metadata": {}
                }
            ]
        },
        {
            "metadata": {},
            "cell_type": "code",
            "source": "train_data.info()\n\nprint(\"*\"*100)\n\ntest_data.info()",
            "execution_count": 9,
            "outputs": [
                {
                    "output_type": "stream",
                    "text": "<class 'pandas.core.frame.DataFrame'>\nRangeIndex: 614 entries, 0 to 613\nData columns (total 13 columns):\nLoan_ID              614 non-null object\nGender               601 non-null object\nMarried              611 non-null object\nDependents           599 non-null object\nEducation            614 non-null object\nSelf_Employed        582 non-null object\nApplicantIncome      614 non-null int64\nCoapplicantIncome    614 non-null float64\nLoanAmount           592 non-null float64\nLoan_Amount_Term     600 non-null float64\nCredit_History       564 non-null float64\nProperty_Area        614 non-null object\nLoan_Status          614 non-null object\ndtypes: float64(4), int64(1), object(8)\nmemory usage: 62.4+ KB\n****************************************************************************************************\n<class 'pandas.core.frame.DataFrame'>\nRangeIndex: 367 entries, 0 to 366\nData columns (total 12 columns):\nLoan_ID              367 non-null object\nGender               356 non-null object\nMarried              367 non-null object\nDependents           357 non-null object\nEducation            367 non-null object\nSelf_Employed        344 non-null object\nApplicantIncome      367 non-null int64\nCoapplicantIncome    367 non-null int64\nLoanAmount           362 non-null float64\nLoan_Amount_Term     361 non-null float64\nCredit_History       338 non-null float64\nProperty_Area        367 non-null object\ndtypes: float64(3), int64(2), object(7)\nmemory usage: 34.5+ KB\n",
                    "name": "stdout"
                }
            ]
        },
        {
            "metadata": {},
            "cell_type": "markdown",
            "source": "### FIND FEATURE COLUMNS"
        },
        {
            "metadata": {},
            "cell_type": "markdown",
            "source": "#### First convert categorial feature to numeric and drop unwanted columns"
        },
        {
            "metadata": {},
            "cell_type": "code",
            "source": "freq_occur_gender = train_data.Gender.mode()[0]\nfreq_occur_gender",
            "execution_count": 10,
            "outputs": [
                {
                    "output_type": "execute_result",
                    "execution_count": 10,
                    "data": {
                        "text/plain": "'Male'"
                    },
                    "metadata": {}
                }
            ]
        },
        {
            "metadata": {},
            "cell_type": "markdown",
            "source": "##### Replcae Nan value to frequently occoured value of Gender"
        },
        {
            "metadata": {},
            "cell_type": "code",
            "source": "for dataset in combine:\n    dataset['Gender'] = dataset['Gender'].fillna(freq_occur_gender)",
            "execution_count": 11,
            "outputs": []
        },
        {
            "metadata": {},
            "cell_type": "code",
            "source": "for dataset in combine:\n    dataset['Gender']= dataset['Gender'].map({'Female':1,'Male':0}).astype(int)",
            "execution_count": 12,
            "outputs": []
        },
        {
            "metadata": {},
            "cell_type": "code",
            "source": "train_data.head()",
            "execution_count": 13,
            "outputs": [
                {
                    "output_type": "execute_result",
                    "execution_count": 13,
                    "data": {
                        "text/plain": "    Loan_ID  Gender Married Dependents     Education Self_Employed  \\\n0  LP001002       0      No          0      Graduate            No   \n1  LP001003       0     Yes          1      Graduate            No   \n2  LP001005       0     Yes          0      Graduate           Yes   \n3  LP001006       0     Yes          0  Not Graduate            No   \n4  LP001008       0      No          0      Graduate            No   \n\n   ApplicantIncome  CoapplicantIncome  LoanAmount  Loan_Amount_Term  \\\n0             5849                0.0         NaN             360.0   \n1             4583             1508.0       128.0             360.0   \n2             3000                0.0        66.0             360.0   \n3             2583             2358.0       120.0             360.0   \n4             6000                0.0       141.0             360.0   \n\n   Credit_History Property_Area Loan_Status  \n0             1.0         Urban           Y  \n1             1.0         Rural           N  \n2             1.0         Urban           Y  \n3             1.0         Urban           Y  \n4             1.0         Urban           Y  ",
                        "text/html": "<div>\n<style scoped>\n    .dataframe tbody tr th:only-of-type {\n        vertical-align: middle;\n    }\n\n    .dataframe tbody tr th {\n        vertical-align: top;\n    }\n\n    .dataframe thead th {\n        text-align: right;\n    }\n</style>\n<table border=\"1\" class=\"dataframe\">\n  <thead>\n    <tr style=\"text-align: right;\">\n      <th></th>\n      <th>Loan_ID</th>\n      <th>Gender</th>\n      <th>Married</th>\n      <th>Dependents</th>\n      <th>Education</th>\n      <th>Self_Employed</th>\n      <th>ApplicantIncome</th>\n      <th>CoapplicantIncome</th>\n      <th>LoanAmount</th>\n      <th>Loan_Amount_Term</th>\n      <th>Credit_History</th>\n      <th>Property_Area</th>\n      <th>Loan_Status</th>\n    </tr>\n  </thead>\n  <tbody>\n    <tr>\n      <th>0</th>\n      <td>LP001002</td>\n      <td>0</td>\n      <td>No</td>\n      <td>0</td>\n      <td>Graduate</td>\n      <td>No</td>\n      <td>5849</td>\n      <td>0.0</td>\n      <td>NaN</td>\n      <td>360.0</td>\n      <td>1.0</td>\n      <td>Urban</td>\n      <td>Y</td>\n    </tr>\n    <tr>\n      <th>1</th>\n      <td>LP001003</td>\n      <td>0</td>\n      <td>Yes</td>\n      <td>1</td>\n      <td>Graduate</td>\n      <td>No</td>\n      <td>4583</td>\n      <td>1508.0</td>\n      <td>128.0</td>\n      <td>360.0</td>\n      <td>1.0</td>\n      <td>Rural</td>\n      <td>N</td>\n    </tr>\n    <tr>\n      <th>2</th>\n      <td>LP001005</td>\n      <td>0</td>\n      <td>Yes</td>\n      <td>0</td>\n      <td>Graduate</td>\n      <td>Yes</td>\n      <td>3000</td>\n      <td>0.0</td>\n      <td>66.0</td>\n      <td>360.0</td>\n      <td>1.0</td>\n      <td>Urban</td>\n      <td>Y</td>\n    </tr>\n    <tr>\n      <th>3</th>\n      <td>LP001006</td>\n      <td>0</td>\n      <td>Yes</td>\n      <td>0</td>\n      <td>Not Graduate</td>\n      <td>No</td>\n      <td>2583</td>\n      <td>2358.0</td>\n      <td>120.0</td>\n      <td>360.0</td>\n      <td>1.0</td>\n      <td>Urban</td>\n      <td>Y</td>\n    </tr>\n    <tr>\n      <th>4</th>\n      <td>LP001008</td>\n      <td>0</td>\n      <td>No</td>\n      <td>0</td>\n      <td>Graduate</td>\n      <td>No</td>\n      <td>6000</td>\n      <td>0.0</td>\n      <td>141.0</td>\n      <td>360.0</td>\n      <td>1.0</td>\n      <td>Urban</td>\n      <td>Y</td>\n    </tr>\n  </tbody>\n</table>\n</div>"
                    },
                    "metadata": {}
                }
            ]
        },
        {
            "metadata": {},
            "cell_type": "code",
            "source": "test_data.head()",
            "execution_count": 14,
            "outputs": [
                {
                    "output_type": "execute_result",
                    "execution_count": 14,
                    "data": {
                        "text/plain": "    Loan_ID  Gender Married Dependents     Education Self_Employed  \\\n0  LP001015       0     Yes          0      Graduate            No   \n1  LP001022       0     Yes          1      Graduate            No   \n2  LP001031       0     Yes          2      Graduate            No   \n3  LP001035       0     Yes          2      Graduate            No   \n4  LP001051       0      No          0  Not Graduate            No   \n\n   ApplicantIncome  CoapplicantIncome  LoanAmount  Loan_Amount_Term  \\\n0             5720                  0       110.0             360.0   \n1             3076               1500       126.0             360.0   \n2             5000               1800       208.0             360.0   \n3             2340               2546       100.0             360.0   \n4             3276                  0        78.0             360.0   \n\n   Credit_History Property_Area  \n0             1.0         Urban  \n1             1.0         Urban  \n2             1.0         Urban  \n3             NaN         Urban  \n4             1.0         Urban  ",
                        "text/html": "<div>\n<style scoped>\n    .dataframe tbody tr th:only-of-type {\n        vertical-align: middle;\n    }\n\n    .dataframe tbody tr th {\n        vertical-align: top;\n    }\n\n    .dataframe thead th {\n        text-align: right;\n    }\n</style>\n<table border=\"1\" class=\"dataframe\">\n  <thead>\n    <tr style=\"text-align: right;\">\n      <th></th>\n      <th>Loan_ID</th>\n      <th>Gender</th>\n      <th>Married</th>\n      <th>Dependents</th>\n      <th>Education</th>\n      <th>Self_Employed</th>\n      <th>ApplicantIncome</th>\n      <th>CoapplicantIncome</th>\n      <th>LoanAmount</th>\n      <th>Loan_Amount_Term</th>\n      <th>Credit_History</th>\n      <th>Property_Area</th>\n    </tr>\n  </thead>\n  <tbody>\n    <tr>\n      <th>0</th>\n      <td>LP001015</td>\n      <td>0</td>\n      <td>Yes</td>\n      <td>0</td>\n      <td>Graduate</td>\n      <td>No</td>\n      <td>5720</td>\n      <td>0</td>\n      <td>110.0</td>\n      <td>360.0</td>\n      <td>1.0</td>\n      <td>Urban</td>\n    </tr>\n    <tr>\n      <th>1</th>\n      <td>LP001022</td>\n      <td>0</td>\n      <td>Yes</td>\n      <td>1</td>\n      <td>Graduate</td>\n      <td>No</td>\n      <td>3076</td>\n      <td>1500</td>\n      <td>126.0</td>\n      <td>360.0</td>\n      <td>1.0</td>\n      <td>Urban</td>\n    </tr>\n    <tr>\n      <th>2</th>\n      <td>LP001031</td>\n      <td>0</td>\n      <td>Yes</td>\n      <td>2</td>\n      <td>Graduate</td>\n      <td>No</td>\n      <td>5000</td>\n      <td>1800</td>\n      <td>208.0</td>\n      <td>360.0</td>\n      <td>1.0</td>\n      <td>Urban</td>\n    </tr>\n    <tr>\n      <th>3</th>\n      <td>LP001035</td>\n      <td>0</td>\n      <td>Yes</td>\n      <td>2</td>\n      <td>Graduate</td>\n      <td>No</td>\n      <td>2340</td>\n      <td>2546</td>\n      <td>100.0</td>\n      <td>360.0</td>\n      <td>NaN</td>\n      <td>Urban</td>\n    </tr>\n    <tr>\n      <th>4</th>\n      <td>LP001051</td>\n      <td>0</td>\n      <td>No</td>\n      <td>0</td>\n      <td>Not Graduate</td>\n      <td>No</td>\n      <td>3276</td>\n      <td>0</td>\n      <td>78.0</td>\n      <td>360.0</td>\n      <td>1.0</td>\n      <td>Urban</td>\n    </tr>\n  </tbody>\n</table>\n</div>"
                    },
                    "metadata": {}
                }
            ]
        },
        {
            "metadata": {},
            "cell_type": "markdown",
            "source": "##### Replcae Nan value to frequently occoured value of Marrital Status"
        },
        {
            "metadata": {},
            "cell_type": "code",
            "source": "freq_occur_marrital_status = train_data.Married.mode()[0]\nfreq_occur_marrital_status",
            "execution_count": 15,
            "outputs": [
                {
                    "output_type": "execute_result",
                    "execution_count": 15,
                    "data": {
                        "text/plain": "'Yes'"
                    },
                    "metadata": {}
                }
            ]
        },
        {
            "metadata": {},
            "cell_type": "code",
            "source": "for dataset in combine:\n    dataset['Married'] = dataset['Married'].fillna(freq_occur_marrital_status)\n    \n# Replcae categorical value to numeric value\n\nfor dataset in combine:\n    dataset['Married']=dataset['Married'].map({'Yes':1,'No':0}).astype(int)",
            "execution_count": 16,
            "outputs": []
        },
        {
            "metadata": {},
            "cell_type": "code",
            "source": "train_data.head()",
            "execution_count": 17,
            "outputs": [
                {
                    "output_type": "execute_result",
                    "execution_count": 17,
                    "data": {
                        "text/plain": "    Loan_ID  Gender  Married Dependents     Education Self_Employed  \\\n0  LP001002       0        0          0      Graduate            No   \n1  LP001003       0        1          1      Graduate            No   \n2  LP001005       0        1          0      Graduate           Yes   \n3  LP001006       0        1          0  Not Graduate            No   \n4  LP001008       0        0          0      Graduate            No   \n\n   ApplicantIncome  CoapplicantIncome  LoanAmount  Loan_Amount_Term  \\\n0             5849                0.0         NaN             360.0   \n1             4583             1508.0       128.0             360.0   \n2             3000                0.0        66.0             360.0   \n3             2583             2358.0       120.0             360.0   \n4             6000                0.0       141.0             360.0   \n\n   Credit_History Property_Area Loan_Status  \n0             1.0         Urban           Y  \n1             1.0         Rural           N  \n2             1.0         Urban           Y  \n3             1.0         Urban           Y  \n4             1.0         Urban           Y  ",
                        "text/html": "<div>\n<style scoped>\n    .dataframe tbody tr th:only-of-type {\n        vertical-align: middle;\n    }\n\n    .dataframe tbody tr th {\n        vertical-align: top;\n    }\n\n    .dataframe thead th {\n        text-align: right;\n    }\n</style>\n<table border=\"1\" class=\"dataframe\">\n  <thead>\n    <tr style=\"text-align: right;\">\n      <th></th>\n      <th>Loan_ID</th>\n      <th>Gender</th>\n      <th>Married</th>\n      <th>Dependents</th>\n      <th>Education</th>\n      <th>Self_Employed</th>\n      <th>ApplicantIncome</th>\n      <th>CoapplicantIncome</th>\n      <th>LoanAmount</th>\n      <th>Loan_Amount_Term</th>\n      <th>Credit_History</th>\n      <th>Property_Area</th>\n      <th>Loan_Status</th>\n    </tr>\n  </thead>\n  <tbody>\n    <tr>\n      <th>0</th>\n      <td>LP001002</td>\n      <td>0</td>\n      <td>0</td>\n      <td>0</td>\n      <td>Graduate</td>\n      <td>No</td>\n      <td>5849</td>\n      <td>0.0</td>\n      <td>NaN</td>\n      <td>360.0</td>\n      <td>1.0</td>\n      <td>Urban</td>\n      <td>Y</td>\n    </tr>\n    <tr>\n      <th>1</th>\n      <td>LP001003</td>\n      <td>0</td>\n      <td>1</td>\n      <td>1</td>\n      <td>Graduate</td>\n      <td>No</td>\n      <td>4583</td>\n      <td>1508.0</td>\n      <td>128.0</td>\n      <td>360.0</td>\n      <td>1.0</td>\n      <td>Rural</td>\n      <td>N</td>\n    </tr>\n    <tr>\n      <th>2</th>\n      <td>LP001005</td>\n      <td>0</td>\n      <td>1</td>\n      <td>0</td>\n      <td>Graduate</td>\n      <td>Yes</td>\n      <td>3000</td>\n      <td>0.0</td>\n      <td>66.0</td>\n      <td>360.0</td>\n      <td>1.0</td>\n      <td>Urban</td>\n      <td>Y</td>\n    </tr>\n    <tr>\n      <th>3</th>\n      <td>LP001006</td>\n      <td>0</td>\n      <td>1</td>\n      <td>0</td>\n      <td>Not Graduate</td>\n      <td>No</td>\n      <td>2583</td>\n      <td>2358.0</td>\n      <td>120.0</td>\n      <td>360.0</td>\n      <td>1.0</td>\n      <td>Urban</td>\n      <td>Y</td>\n    </tr>\n    <tr>\n      <th>4</th>\n      <td>LP001008</td>\n      <td>0</td>\n      <td>0</td>\n      <td>0</td>\n      <td>Graduate</td>\n      <td>No</td>\n      <td>6000</td>\n      <td>0.0</td>\n      <td>141.0</td>\n      <td>360.0</td>\n      <td>1.0</td>\n      <td>Urban</td>\n      <td>Y</td>\n    </tr>\n  </tbody>\n</table>\n</div>"
                    },
                    "metadata": {}
                }
            ]
        },
        {
            "metadata": {},
            "cell_type": "code",
            "source": "test_data.head()",
            "execution_count": 18,
            "outputs": [
                {
                    "output_type": "execute_result",
                    "execution_count": 18,
                    "data": {
                        "text/plain": "    Loan_ID  Gender  Married Dependents     Education Self_Employed  \\\n0  LP001015       0        1          0      Graduate            No   \n1  LP001022       0        1          1      Graduate            No   \n2  LP001031       0        1          2      Graduate            No   \n3  LP001035       0        1          2      Graduate            No   \n4  LP001051       0        0          0  Not Graduate            No   \n\n   ApplicantIncome  CoapplicantIncome  LoanAmount  Loan_Amount_Term  \\\n0             5720                  0       110.0             360.0   \n1             3076               1500       126.0             360.0   \n2             5000               1800       208.0             360.0   \n3             2340               2546       100.0             360.0   \n4             3276                  0        78.0             360.0   \n\n   Credit_History Property_Area  \n0             1.0         Urban  \n1             1.0         Urban  \n2             1.0         Urban  \n3             NaN         Urban  \n4             1.0         Urban  ",
                        "text/html": "<div>\n<style scoped>\n    .dataframe tbody tr th:only-of-type {\n        vertical-align: middle;\n    }\n\n    .dataframe tbody tr th {\n        vertical-align: top;\n    }\n\n    .dataframe thead th {\n        text-align: right;\n    }\n</style>\n<table border=\"1\" class=\"dataframe\">\n  <thead>\n    <tr style=\"text-align: right;\">\n      <th></th>\n      <th>Loan_ID</th>\n      <th>Gender</th>\n      <th>Married</th>\n      <th>Dependents</th>\n      <th>Education</th>\n      <th>Self_Employed</th>\n      <th>ApplicantIncome</th>\n      <th>CoapplicantIncome</th>\n      <th>LoanAmount</th>\n      <th>Loan_Amount_Term</th>\n      <th>Credit_History</th>\n      <th>Property_Area</th>\n    </tr>\n  </thead>\n  <tbody>\n    <tr>\n      <th>0</th>\n      <td>LP001015</td>\n      <td>0</td>\n      <td>1</td>\n      <td>0</td>\n      <td>Graduate</td>\n      <td>No</td>\n      <td>5720</td>\n      <td>0</td>\n      <td>110.0</td>\n      <td>360.0</td>\n      <td>1.0</td>\n      <td>Urban</td>\n    </tr>\n    <tr>\n      <th>1</th>\n      <td>LP001022</td>\n      <td>0</td>\n      <td>1</td>\n      <td>1</td>\n      <td>Graduate</td>\n      <td>No</td>\n      <td>3076</td>\n      <td>1500</td>\n      <td>126.0</td>\n      <td>360.0</td>\n      <td>1.0</td>\n      <td>Urban</td>\n    </tr>\n    <tr>\n      <th>2</th>\n      <td>LP001031</td>\n      <td>0</td>\n      <td>1</td>\n      <td>2</td>\n      <td>Graduate</td>\n      <td>No</td>\n      <td>5000</td>\n      <td>1800</td>\n      <td>208.0</td>\n      <td>360.0</td>\n      <td>1.0</td>\n      <td>Urban</td>\n    </tr>\n    <tr>\n      <th>3</th>\n      <td>LP001035</td>\n      <td>0</td>\n      <td>1</td>\n      <td>2</td>\n      <td>Graduate</td>\n      <td>No</td>\n      <td>2340</td>\n      <td>2546</td>\n      <td>100.0</td>\n      <td>360.0</td>\n      <td>NaN</td>\n      <td>Urban</td>\n    </tr>\n    <tr>\n      <th>4</th>\n      <td>LP001051</td>\n      <td>0</td>\n      <td>0</td>\n      <td>0</td>\n      <td>Not Graduate</td>\n      <td>No</td>\n      <td>3276</td>\n      <td>0</td>\n      <td>78.0</td>\n      <td>360.0</td>\n      <td>1.0</td>\n      <td>Urban</td>\n    </tr>\n  </tbody>\n</table>\n</div>"
                    },
                    "metadata": {}
                }
            ]
        },
        {
            "metadata": {},
            "cell_type": "markdown",
            "source": "##### Replcae Nan value to frequently occoured value of Education Status"
        },
        {
            "metadata": {},
            "cell_type": "code",
            "source": "freq_occur_education_status = train_data.Education.mode()[0]\nfreq_occur_education_status",
            "execution_count": 19,
            "outputs": [
                {
                    "output_type": "execute_result",
                    "execution_count": 19,
                    "data": {
                        "text/plain": "'Graduate'"
                    },
                    "metadata": {}
                }
            ]
        },
        {
            "metadata": {},
            "cell_type": "code",
            "source": "for dataset in combine:\n    dataset['Education'] = dataset['Education'].fillna(freq_occur_education_status)\n    \n# Replcae categorical value to numeric value\n\nfor dataset in combine:\n    dataset['Education']=dataset['Education'].map({'Graduate':1,'Not Graduate':0}).astype(int)",
            "execution_count": 20,
            "outputs": []
        },
        {
            "metadata": {},
            "cell_type": "code",
            "source": "train_data.head()",
            "execution_count": 21,
            "outputs": [
                {
                    "output_type": "execute_result",
                    "execution_count": 21,
                    "data": {
                        "text/plain": "    Loan_ID  Gender  Married Dependents  Education Self_Employed  \\\n0  LP001002       0        0          0          1            No   \n1  LP001003       0        1          1          1            No   \n2  LP001005       0        1          0          1           Yes   \n3  LP001006       0        1          0          0            No   \n4  LP001008       0        0          0          1            No   \n\n   ApplicantIncome  CoapplicantIncome  LoanAmount  Loan_Amount_Term  \\\n0             5849                0.0         NaN             360.0   \n1             4583             1508.0       128.0             360.0   \n2             3000                0.0        66.0             360.0   \n3             2583             2358.0       120.0             360.0   \n4             6000                0.0       141.0             360.0   \n\n   Credit_History Property_Area Loan_Status  \n0             1.0         Urban           Y  \n1             1.0         Rural           N  \n2             1.0         Urban           Y  \n3             1.0         Urban           Y  \n4             1.0         Urban           Y  ",
                        "text/html": "<div>\n<style scoped>\n    .dataframe tbody tr th:only-of-type {\n        vertical-align: middle;\n    }\n\n    .dataframe tbody tr th {\n        vertical-align: top;\n    }\n\n    .dataframe thead th {\n        text-align: right;\n    }\n</style>\n<table border=\"1\" class=\"dataframe\">\n  <thead>\n    <tr style=\"text-align: right;\">\n      <th></th>\n      <th>Loan_ID</th>\n      <th>Gender</th>\n      <th>Married</th>\n      <th>Dependents</th>\n      <th>Education</th>\n      <th>Self_Employed</th>\n      <th>ApplicantIncome</th>\n      <th>CoapplicantIncome</th>\n      <th>LoanAmount</th>\n      <th>Loan_Amount_Term</th>\n      <th>Credit_History</th>\n      <th>Property_Area</th>\n      <th>Loan_Status</th>\n    </tr>\n  </thead>\n  <tbody>\n    <tr>\n      <th>0</th>\n      <td>LP001002</td>\n      <td>0</td>\n      <td>0</td>\n      <td>0</td>\n      <td>1</td>\n      <td>No</td>\n      <td>5849</td>\n      <td>0.0</td>\n      <td>NaN</td>\n      <td>360.0</td>\n      <td>1.0</td>\n      <td>Urban</td>\n      <td>Y</td>\n    </tr>\n    <tr>\n      <th>1</th>\n      <td>LP001003</td>\n      <td>0</td>\n      <td>1</td>\n      <td>1</td>\n      <td>1</td>\n      <td>No</td>\n      <td>4583</td>\n      <td>1508.0</td>\n      <td>128.0</td>\n      <td>360.0</td>\n      <td>1.0</td>\n      <td>Rural</td>\n      <td>N</td>\n    </tr>\n    <tr>\n      <th>2</th>\n      <td>LP001005</td>\n      <td>0</td>\n      <td>1</td>\n      <td>0</td>\n      <td>1</td>\n      <td>Yes</td>\n      <td>3000</td>\n      <td>0.0</td>\n      <td>66.0</td>\n      <td>360.0</td>\n      <td>1.0</td>\n      <td>Urban</td>\n      <td>Y</td>\n    </tr>\n    <tr>\n      <th>3</th>\n      <td>LP001006</td>\n      <td>0</td>\n      <td>1</td>\n      <td>0</td>\n      <td>0</td>\n      <td>No</td>\n      <td>2583</td>\n      <td>2358.0</td>\n      <td>120.0</td>\n      <td>360.0</td>\n      <td>1.0</td>\n      <td>Urban</td>\n      <td>Y</td>\n    </tr>\n    <tr>\n      <th>4</th>\n      <td>LP001008</td>\n      <td>0</td>\n      <td>0</td>\n      <td>0</td>\n      <td>1</td>\n      <td>No</td>\n      <td>6000</td>\n      <td>0.0</td>\n      <td>141.0</td>\n      <td>360.0</td>\n      <td>1.0</td>\n      <td>Urban</td>\n      <td>Y</td>\n    </tr>\n  </tbody>\n</table>\n</div>"
                    },
                    "metadata": {}
                }
            ]
        },
        {
            "metadata": {},
            "cell_type": "code",
            "source": "test_data.head()",
            "execution_count": 22,
            "outputs": [
                {
                    "output_type": "execute_result",
                    "execution_count": 22,
                    "data": {
                        "text/plain": "    Loan_ID  Gender  Married Dependents  Education Self_Employed  \\\n0  LP001015       0        1          0          1            No   \n1  LP001022       0        1          1          1            No   \n2  LP001031       0        1          2          1            No   \n3  LP001035       0        1          2          1            No   \n4  LP001051       0        0          0          0            No   \n\n   ApplicantIncome  CoapplicantIncome  LoanAmount  Loan_Amount_Term  \\\n0             5720                  0       110.0             360.0   \n1             3076               1500       126.0             360.0   \n2             5000               1800       208.0             360.0   \n3             2340               2546       100.0             360.0   \n4             3276                  0        78.0             360.0   \n\n   Credit_History Property_Area  \n0             1.0         Urban  \n1             1.0         Urban  \n2             1.0         Urban  \n3             NaN         Urban  \n4             1.0         Urban  ",
                        "text/html": "<div>\n<style scoped>\n    .dataframe tbody tr th:only-of-type {\n        vertical-align: middle;\n    }\n\n    .dataframe tbody tr th {\n        vertical-align: top;\n    }\n\n    .dataframe thead th {\n        text-align: right;\n    }\n</style>\n<table border=\"1\" class=\"dataframe\">\n  <thead>\n    <tr style=\"text-align: right;\">\n      <th></th>\n      <th>Loan_ID</th>\n      <th>Gender</th>\n      <th>Married</th>\n      <th>Dependents</th>\n      <th>Education</th>\n      <th>Self_Employed</th>\n      <th>ApplicantIncome</th>\n      <th>CoapplicantIncome</th>\n      <th>LoanAmount</th>\n      <th>Loan_Amount_Term</th>\n      <th>Credit_History</th>\n      <th>Property_Area</th>\n    </tr>\n  </thead>\n  <tbody>\n    <tr>\n      <th>0</th>\n      <td>LP001015</td>\n      <td>0</td>\n      <td>1</td>\n      <td>0</td>\n      <td>1</td>\n      <td>No</td>\n      <td>5720</td>\n      <td>0</td>\n      <td>110.0</td>\n      <td>360.0</td>\n      <td>1.0</td>\n      <td>Urban</td>\n    </tr>\n    <tr>\n      <th>1</th>\n      <td>LP001022</td>\n      <td>0</td>\n      <td>1</td>\n      <td>1</td>\n      <td>1</td>\n      <td>No</td>\n      <td>3076</td>\n      <td>1500</td>\n      <td>126.0</td>\n      <td>360.0</td>\n      <td>1.0</td>\n      <td>Urban</td>\n    </tr>\n    <tr>\n      <th>2</th>\n      <td>LP001031</td>\n      <td>0</td>\n      <td>1</td>\n      <td>2</td>\n      <td>1</td>\n      <td>No</td>\n      <td>5000</td>\n      <td>1800</td>\n      <td>208.0</td>\n      <td>360.0</td>\n      <td>1.0</td>\n      <td>Urban</td>\n    </tr>\n    <tr>\n      <th>3</th>\n      <td>LP001035</td>\n      <td>0</td>\n      <td>1</td>\n      <td>2</td>\n      <td>1</td>\n      <td>No</td>\n      <td>2340</td>\n      <td>2546</td>\n      <td>100.0</td>\n      <td>360.0</td>\n      <td>NaN</td>\n      <td>Urban</td>\n    </tr>\n    <tr>\n      <th>4</th>\n      <td>LP001051</td>\n      <td>0</td>\n      <td>0</td>\n      <td>0</td>\n      <td>0</td>\n      <td>No</td>\n      <td>3276</td>\n      <td>0</td>\n      <td>78.0</td>\n      <td>360.0</td>\n      <td>1.0</td>\n      <td>Urban</td>\n    </tr>\n  </tbody>\n</table>\n</div>"
                    },
                    "metadata": {}
                }
            ]
        },
        {
            "metadata": {},
            "cell_type": "markdown",
            "source": "##### Replcae Nan value to frequently occoured value of Education Status"
        },
        {
            "metadata": {},
            "cell_type": "code",
            "source": "freq_occur_Employment_status = train_data.Self_Employed.mode()[0]\nfreq_occur_Employment_status",
            "execution_count": 23,
            "outputs": [
                {
                    "output_type": "execute_result",
                    "execution_count": 23,
                    "data": {
                        "text/plain": "'No'"
                    },
                    "metadata": {}
                }
            ]
        },
        {
            "metadata": {},
            "cell_type": "code",
            "source": "for dataset in combine:\n    dataset['Self_Employed'] = dataset['Self_Employed'].fillna(freq_occur_Employment_status)\n    \n# Replcae categorical value to numeric value\n\nfor dataset in combine:\n    dataset['Self_Employed']=dataset['Self_Employed'].map({'Yes':1,'No':0}).astype(int)",
            "execution_count": 24,
            "outputs": []
        },
        {
            "metadata": {},
            "cell_type": "code",
            "source": "train_data.head()",
            "execution_count": 25,
            "outputs": [
                {
                    "output_type": "execute_result",
                    "execution_count": 25,
                    "data": {
                        "text/plain": "    Loan_ID  Gender  Married Dependents  Education  Self_Employed  \\\n0  LP001002       0        0          0          1              0   \n1  LP001003       0        1          1          1              0   \n2  LP001005       0        1          0          1              1   \n3  LP001006       0        1          0          0              0   \n4  LP001008       0        0          0          1              0   \n\n   ApplicantIncome  CoapplicantIncome  LoanAmount  Loan_Amount_Term  \\\n0             5849                0.0         NaN             360.0   \n1             4583             1508.0       128.0             360.0   \n2             3000                0.0        66.0             360.0   \n3             2583             2358.0       120.0             360.0   \n4             6000                0.0       141.0             360.0   \n\n   Credit_History Property_Area Loan_Status  \n0             1.0         Urban           Y  \n1             1.0         Rural           N  \n2             1.0         Urban           Y  \n3             1.0         Urban           Y  \n4             1.0         Urban           Y  ",
                        "text/html": "<div>\n<style scoped>\n    .dataframe tbody tr th:only-of-type {\n        vertical-align: middle;\n    }\n\n    .dataframe tbody tr th {\n        vertical-align: top;\n    }\n\n    .dataframe thead th {\n        text-align: right;\n    }\n</style>\n<table border=\"1\" class=\"dataframe\">\n  <thead>\n    <tr style=\"text-align: right;\">\n      <th></th>\n      <th>Loan_ID</th>\n      <th>Gender</th>\n      <th>Married</th>\n      <th>Dependents</th>\n      <th>Education</th>\n      <th>Self_Employed</th>\n      <th>ApplicantIncome</th>\n      <th>CoapplicantIncome</th>\n      <th>LoanAmount</th>\n      <th>Loan_Amount_Term</th>\n      <th>Credit_History</th>\n      <th>Property_Area</th>\n      <th>Loan_Status</th>\n    </tr>\n  </thead>\n  <tbody>\n    <tr>\n      <th>0</th>\n      <td>LP001002</td>\n      <td>0</td>\n      <td>0</td>\n      <td>0</td>\n      <td>1</td>\n      <td>0</td>\n      <td>5849</td>\n      <td>0.0</td>\n      <td>NaN</td>\n      <td>360.0</td>\n      <td>1.0</td>\n      <td>Urban</td>\n      <td>Y</td>\n    </tr>\n    <tr>\n      <th>1</th>\n      <td>LP001003</td>\n      <td>0</td>\n      <td>1</td>\n      <td>1</td>\n      <td>1</td>\n      <td>0</td>\n      <td>4583</td>\n      <td>1508.0</td>\n      <td>128.0</td>\n      <td>360.0</td>\n      <td>1.0</td>\n      <td>Rural</td>\n      <td>N</td>\n    </tr>\n    <tr>\n      <th>2</th>\n      <td>LP001005</td>\n      <td>0</td>\n      <td>1</td>\n      <td>0</td>\n      <td>1</td>\n      <td>1</td>\n      <td>3000</td>\n      <td>0.0</td>\n      <td>66.0</td>\n      <td>360.0</td>\n      <td>1.0</td>\n      <td>Urban</td>\n      <td>Y</td>\n    </tr>\n    <tr>\n      <th>3</th>\n      <td>LP001006</td>\n      <td>0</td>\n      <td>1</td>\n      <td>0</td>\n      <td>0</td>\n      <td>0</td>\n      <td>2583</td>\n      <td>2358.0</td>\n      <td>120.0</td>\n      <td>360.0</td>\n      <td>1.0</td>\n      <td>Urban</td>\n      <td>Y</td>\n    </tr>\n    <tr>\n      <th>4</th>\n      <td>LP001008</td>\n      <td>0</td>\n      <td>0</td>\n      <td>0</td>\n      <td>1</td>\n      <td>0</td>\n      <td>6000</td>\n      <td>0.0</td>\n      <td>141.0</td>\n      <td>360.0</td>\n      <td>1.0</td>\n      <td>Urban</td>\n      <td>Y</td>\n    </tr>\n  </tbody>\n</table>\n</div>"
                    },
                    "metadata": {}
                }
            ]
        },
        {
            "metadata": {},
            "cell_type": "code",
            "source": "test_data.head()",
            "execution_count": 26,
            "outputs": [
                {
                    "output_type": "execute_result",
                    "execution_count": 26,
                    "data": {
                        "text/plain": "    Loan_ID  Gender  Married Dependents  Education  Self_Employed  \\\n0  LP001015       0        1          0          1              0   \n1  LP001022       0        1          1          1              0   \n2  LP001031       0        1          2          1              0   \n3  LP001035       0        1          2          1              0   \n4  LP001051       0        0          0          0              0   \n\n   ApplicantIncome  CoapplicantIncome  LoanAmount  Loan_Amount_Term  \\\n0             5720                  0       110.0             360.0   \n1             3076               1500       126.0             360.0   \n2             5000               1800       208.0             360.0   \n3             2340               2546       100.0             360.0   \n4             3276                  0        78.0             360.0   \n\n   Credit_History Property_Area  \n0             1.0         Urban  \n1             1.0         Urban  \n2             1.0         Urban  \n3             NaN         Urban  \n4             1.0         Urban  ",
                        "text/html": "<div>\n<style scoped>\n    .dataframe tbody tr th:only-of-type {\n        vertical-align: middle;\n    }\n\n    .dataframe tbody tr th {\n        vertical-align: top;\n    }\n\n    .dataframe thead th {\n        text-align: right;\n    }\n</style>\n<table border=\"1\" class=\"dataframe\">\n  <thead>\n    <tr style=\"text-align: right;\">\n      <th></th>\n      <th>Loan_ID</th>\n      <th>Gender</th>\n      <th>Married</th>\n      <th>Dependents</th>\n      <th>Education</th>\n      <th>Self_Employed</th>\n      <th>ApplicantIncome</th>\n      <th>CoapplicantIncome</th>\n      <th>LoanAmount</th>\n      <th>Loan_Amount_Term</th>\n      <th>Credit_History</th>\n      <th>Property_Area</th>\n    </tr>\n  </thead>\n  <tbody>\n    <tr>\n      <th>0</th>\n      <td>LP001015</td>\n      <td>0</td>\n      <td>1</td>\n      <td>0</td>\n      <td>1</td>\n      <td>0</td>\n      <td>5720</td>\n      <td>0</td>\n      <td>110.0</td>\n      <td>360.0</td>\n      <td>1.0</td>\n      <td>Urban</td>\n    </tr>\n    <tr>\n      <th>1</th>\n      <td>LP001022</td>\n      <td>0</td>\n      <td>1</td>\n      <td>1</td>\n      <td>1</td>\n      <td>0</td>\n      <td>3076</td>\n      <td>1500</td>\n      <td>126.0</td>\n      <td>360.0</td>\n      <td>1.0</td>\n      <td>Urban</td>\n    </tr>\n    <tr>\n      <th>2</th>\n      <td>LP001031</td>\n      <td>0</td>\n      <td>1</td>\n      <td>2</td>\n      <td>1</td>\n      <td>0</td>\n      <td>5000</td>\n      <td>1800</td>\n      <td>208.0</td>\n      <td>360.0</td>\n      <td>1.0</td>\n      <td>Urban</td>\n    </tr>\n    <tr>\n      <th>3</th>\n      <td>LP001035</td>\n      <td>0</td>\n      <td>1</td>\n      <td>2</td>\n      <td>1</td>\n      <td>0</td>\n      <td>2340</td>\n      <td>2546</td>\n      <td>100.0</td>\n      <td>360.0</td>\n      <td>NaN</td>\n      <td>Urban</td>\n    </tr>\n    <tr>\n      <th>4</th>\n      <td>LP001051</td>\n      <td>0</td>\n      <td>0</td>\n      <td>0</td>\n      <td>0</td>\n      <td>0</td>\n      <td>3276</td>\n      <td>0</td>\n      <td>78.0</td>\n      <td>360.0</td>\n      <td>1.0</td>\n      <td>Urban</td>\n    </tr>\n  </tbody>\n</table>\n</div>"
                    },
                    "metadata": {}
                }
            ]
        },
        {
            "metadata": {},
            "cell_type": "code",
            "source": "ApplicantIncome_mean = train_data['ApplicantIncome'].mean()\nApplicantIncome_mean",
            "execution_count": 27,
            "outputs": [
                {
                    "output_type": "execute_result",
                    "execution_count": 27,
                    "data": {
                        "text/plain": "5403.459283387622"
                    },
                    "metadata": {}
                }
            ]
        },
        {
            "metadata": {},
            "cell_type": "code",
            "source": "for dataset in combine:\n    dataset['ApplicantIncome']=dataset['ApplicantIncome'].fillna(ApplicantIncome_mean)",
            "execution_count": 28,
            "outputs": []
        },
        {
            "metadata": {},
            "cell_type": "code",
            "source": "train_data.info()",
            "execution_count": 29,
            "outputs": [
                {
                    "output_type": "stream",
                    "text": "<class 'pandas.core.frame.DataFrame'>\nRangeIndex: 614 entries, 0 to 613\nData columns (total 13 columns):\nLoan_ID              614 non-null object\nGender               614 non-null int64\nMarried              614 non-null int64\nDependents           599 non-null object\nEducation            614 non-null int64\nSelf_Employed        614 non-null int64\nApplicantIncome      614 non-null int64\nCoapplicantIncome    614 non-null float64\nLoanAmount           592 non-null float64\nLoan_Amount_Term     600 non-null float64\nCredit_History       564 non-null float64\nProperty_Area        614 non-null object\nLoan_Status          614 non-null object\ndtypes: float64(4), int64(5), object(4)\nmemory usage: 62.4+ KB\n",
                    "name": "stdout"
                }
            ]
        },
        {
            "metadata": {},
            "cell_type": "markdown",
            "source": "##### Replcae Nan value to frequently occoured value of Dependency Status"
        },
        {
            "metadata": {},
            "cell_type": "code",
            "source": "freq_occur_dependency_status = train_data['Dependents'].mode()[0]\nfreq_occur_dependency_status",
            "execution_count": 30,
            "outputs": [
                {
                    "output_type": "execute_result",
                    "execution_count": 30,
                    "data": {
                        "text/plain": "'0'"
                    },
                    "metadata": {}
                }
            ]
        },
        {
            "metadata": {},
            "cell_type": "code",
            "source": "train_data.Dependents.unique()",
            "execution_count": 31,
            "outputs": [
                {
                    "output_type": "execute_result",
                    "execution_count": 31,
                    "data": {
                        "text/plain": "array(['0', '1', '2', '3+', nan], dtype=object)"
                    },
                    "metadata": {}
                }
            ]
        },
        {
            "metadata": {},
            "cell_type": "code",
            "source": "for dataset in combine:\n    dataset['Dependents'] = dataset['Dependents'].fillna(freq_occur_dependency_status)\n",
            "execution_count": 32,
            "outputs": []
        },
        {
            "metadata": {},
            "cell_type": "code",
            "source": "train_data.Dependents.unique()",
            "execution_count": 33,
            "outputs": [
                {
                    "output_type": "execute_result",
                    "execution_count": 33,
                    "data": {
                        "text/plain": "array(['0', '1', '2', '3+'], dtype=object)"
                    },
                    "metadata": {}
                }
            ]
        },
        {
            "metadata": {},
            "cell_type": "code",
            "source": "for dataset in combine:\n    dataset['Dependents'] = dataset['Dependents'].map({'0':0,'1':1,'2':2,'3+':3}).astype(int)",
            "execution_count": 34,
            "outputs": []
        },
        {
            "metadata": {},
            "cell_type": "code",
            "source": "train_data.head()",
            "execution_count": 35,
            "outputs": [
                {
                    "output_type": "execute_result",
                    "execution_count": 35,
                    "data": {
                        "text/plain": "    Loan_ID  Gender  Married  Dependents  Education  Self_Employed  \\\n0  LP001002       0        0           0          1              0   \n1  LP001003       0        1           1          1              0   \n2  LP001005       0        1           0          1              1   \n3  LP001006       0        1           0          0              0   \n4  LP001008       0        0           0          1              0   \n\n   ApplicantIncome  CoapplicantIncome  LoanAmount  Loan_Amount_Term  \\\n0             5849                0.0         NaN             360.0   \n1             4583             1508.0       128.0             360.0   \n2             3000                0.0        66.0             360.0   \n3             2583             2358.0       120.0             360.0   \n4             6000                0.0       141.0             360.0   \n\n   Credit_History Property_Area Loan_Status  \n0             1.0         Urban           Y  \n1             1.0         Rural           N  \n2             1.0         Urban           Y  \n3             1.0         Urban           Y  \n4             1.0         Urban           Y  ",
                        "text/html": "<div>\n<style scoped>\n    .dataframe tbody tr th:only-of-type {\n        vertical-align: middle;\n    }\n\n    .dataframe tbody tr th {\n        vertical-align: top;\n    }\n\n    .dataframe thead th {\n        text-align: right;\n    }\n</style>\n<table border=\"1\" class=\"dataframe\">\n  <thead>\n    <tr style=\"text-align: right;\">\n      <th></th>\n      <th>Loan_ID</th>\n      <th>Gender</th>\n      <th>Married</th>\n      <th>Dependents</th>\n      <th>Education</th>\n      <th>Self_Employed</th>\n      <th>ApplicantIncome</th>\n      <th>CoapplicantIncome</th>\n      <th>LoanAmount</th>\n      <th>Loan_Amount_Term</th>\n      <th>Credit_History</th>\n      <th>Property_Area</th>\n      <th>Loan_Status</th>\n    </tr>\n  </thead>\n  <tbody>\n    <tr>\n      <th>0</th>\n      <td>LP001002</td>\n      <td>0</td>\n      <td>0</td>\n      <td>0</td>\n      <td>1</td>\n      <td>0</td>\n      <td>5849</td>\n      <td>0.0</td>\n      <td>NaN</td>\n      <td>360.0</td>\n      <td>1.0</td>\n      <td>Urban</td>\n      <td>Y</td>\n    </tr>\n    <tr>\n      <th>1</th>\n      <td>LP001003</td>\n      <td>0</td>\n      <td>1</td>\n      <td>1</td>\n      <td>1</td>\n      <td>0</td>\n      <td>4583</td>\n      <td>1508.0</td>\n      <td>128.0</td>\n      <td>360.0</td>\n      <td>1.0</td>\n      <td>Rural</td>\n      <td>N</td>\n    </tr>\n    <tr>\n      <th>2</th>\n      <td>LP001005</td>\n      <td>0</td>\n      <td>1</td>\n      <td>0</td>\n      <td>1</td>\n      <td>1</td>\n      <td>3000</td>\n      <td>0.0</td>\n      <td>66.0</td>\n      <td>360.0</td>\n      <td>1.0</td>\n      <td>Urban</td>\n      <td>Y</td>\n    </tr>\n    <tr>\n      <th>3</th>\n      <td>LP001006</td>\n      <td>0</td>\n      <td>1</td>\n      <td>0</td>\n      <td>0</td>\n      <td>0</td>\n      <td>2583</td>\n      <td>2358.0</td>\n      <td>120.0</td>\n      <td>360.0</td>\n      <td>1.0</td>\n      <td>Urban</td>\n      <td>Y</td>\n    </tr>\n    <tr>\n      <th>4</th>\n      <td>LP001008</td>\n      <td>0</td>\n      <td>0</td>\n      <td>0</td>\n      <td>1</td>\n      <td>0</td>\n      <td>6000</td>\n      <td>0.0</td>\n      <td>141.0</td>\n      <td>360.0</td>\n      <td>1.0</td>\n      <td>Urban</td>\n      <td>Y</td>\n    </tr>\n  </tbody>\n</table>\n</div>"
                    },
                    "metadata": {}
                }
            ]
        },
        {
            "metadata": {},
            "cell_type": "code",
            "source": "train_data.Dependents.unique()",
            "execution_count": 36,
            "outputs": [
                {
                    "output_type": "execute_result",
                    "execution_count": 36,
                    "data": {
                        "text/plain": "array([0, 1, 2, 3])"
                    },
                    "metadata": {}
                }
            ]
        },
        {
            "metadata": {},
            "cell_type": "code",
            "source": "train_data.info()",
            "execution_count": 37,
            "outputs": [
                {
                    "output_type": "stream",
                    "text": "<class 'pandas.core.frame.DataFrame'>\nRangeIndex: 614 entries, 0 to 613\nData columns (total 13 columns):\nLoan_ID              614 non-null object\nGender               614 non-null int64\nMarried              614 non-null int64\nDependents           614 non-null int64\nEducation            614 non-null int64\nSelf_Employed        614 non-null int64\nApplicantIncome      614 non-null int64\nCoapplicantIncome    614 non-null float64\nLoanAmount           592 non-null float64\nLoan_Amount_Term     600 non-null float64\nCredit_History       564 non-null float64\nProperty_Area        614 non-null object\nLoan_Status          614 non-null object\ndtypes: float64(4), int64(6), object(3)\nmemory usage: 62.4+ KB\n",
                    "name": "stdout"
                }
            ]
        },
        {
            "metadata": {},
            "cell_type": "markdown",
            "source": "##### Replcae Nan value to mean value of CoapplicantIncome"
        },
        {
            "metadata": {},
            "cell_type": "code",
            "source": "CoapplicantIncome_mean = train_data.CoapplicantIncome.mean()\nCoapplicantIncome_mean",
            "execution_count": 38,
            "outputs": [
                {
                    "output_type": "execute_result",
                    "execution_count": 38,
                    "data": {
                        "text/plain": "1621.245798027101"
                    },
                    "metadata": {}
                }
            ]
        },
        {
            "metadata": {},
            "cell_type": "code",
            "source": "for dataset in combine:\n    dataset['CoapplicantIncome']=dataset['CoapplicantIncome'].fillna(CoapplicantIncome_mean)",
            "execution_count": 39,
            "outputs": []
        },
        {
            "metadata": {},
            "cell_type": "code",
            "source": "for dataset in combine:\n    dataset['CoapplicantIncome'] = dataset['CoapplicantIncome'].astype(int)",
            "execution_count": 40,
            "outputs": []
        },
        {
            "metadata": {},
            "cell_type": "code",
            "source": "train_data.head()",
            "execution_count": 41,
            "outputs": [
                {
                    "output_type": "execute_result",
                    "execution_count": 41,
                    "data": {
                        "text/plain": "    Loan_ID  Gender  Married  Dependents  Education  Self_Employed  \\\n0  LP001002       0        0           0          1              0   \n1  LP001003       0        1           1          1              0   \n2  LP001005       0        1           0          1              1   \n3  LP001006       0        1           0          0              0   \n4  LP001008       0        0           0          1              0   \n\n   ApplicantIncome  CoapplicantIncome  LoanAmount  Loan_Amount_Term  \\\n0             5849                  0         NaN             360.0   \n1             4583               1508       128.0             360.0   \n2             3000                  0        66.0             360.0   \n3             2583               2358       120.0             360.0   \n4             6000                  0       141.0             360.0   \n\n   Credit_History Property_Area Loan_Status  \n0             1.0         Urban           Y  \n1             1.0         Rural           N  \n2             1.0         Urban           Y  \n3             1.0         Urban           Y  \n4             1.0         Urban           Y  ",
                        "text/html": "<div>\n<style scoped>\n    .dataframe tbody tr th:only-of-type {\n        vertical-align: middle;\n    }\n\n    .dataframe tbody tr th {\n        vertical-align: top;\n    }\n\n    .dataframe thead th {\n        text-align: right;\n    }\n</style>\n<table border=\"1\" class=\"dataframe\">\n  <thead>\n    <tr style=\"text-align: right;\">\n      <th></th>\n      <th>Loan_ID</th>\n      <th>Gender</th>\n      <th>Married</th>\n      <th>Dependents</th>\n      <th>Education</th>\n      <th>Self_Employed</th>\n      <th>ApplicantIncome</th>\n      <th>CoapplicantIncome</th>\n      <th>LoanAmount</th>\n      <th>Loan_Amount_Term</th>\n      <th>Credit_History</th>\n      <th>Property_Area</th>\n      <th>Loan_Status</th>\n    </tr>\n  </thead>\n  <tbody>\n    <tr>\n      <th>0</th>\n      <td>LP001002</td>\n      <td>0</td>\n      <td>0</td>\n      <td>0</td>\n      <td>1</td>\n      <td>0</td>\n      <td>5849</td>\n      <td>0</td>\n      <td>NaN</td>\n      <td>360.0</td>\n      <td>1.0</td>\n      <td>Urban</td>\n      <td>Y</td>\n    </tr>\n    <tr>\n      <th>1</th>\n      <td>LP001003</td>\n      <td>0</td>\n      <td>1</td>\n      <td>1</td>\n      <td>1</td>\n      <td>0</td>\n      <td>4583</td>\n      <td>1508</td>\n      <td>128.0</td>\n      <td>360.0</td>\n      <td>1.0</td>\n      <td>Rural</td>\n      <td>N</td>\n    </tr>\n    <tr>\n      <th>2</th>\n      <td>LP001005</td>\n      <td>0</td>\n      <td>1</td>\n      <td>0</td>\n      <td>1</td>\n      <td>1</td>\n      <td>3000</td>\n      <td>0</td>\n      <td>66.0</td>\n      <td>360.0</td>\n      <td>1.0</td>\n      <td>Urban</td>\n      <td>Y</td>\n    </tr>\n    <tr>\n      <th>3</th>\n      <td>LP001006</td>\n      <td>0</td>\n      <td>1</td>\n      <td>0</td>\n      <td>0</td>\n      <td>0</td>\n      <td>2583</td>\n      <td>2358</td>\n      <td>120.0</td>\n      <td>360.0</td>\n      <td>1.0</td>\n      <td>Urban</td>\n      <td>Y</td>\n    </tr>\n    <tr>\n      <th>4</th>\n      <td>LP001008</td>\n      <td>0</td>\n      <td>0</td>\n      <td>0</td>\n      <td>1</td>\n      <td>0</td>\n      <td>6000</td>\n      <td>0</td>\n      <td>141.0</td>\n      <td>360.0</td>\n      <td>1.0</td>\n      <td>Urban</td>\n      <td>Y</td>\n    </tr>\n  </tbody>\n</table>\n</div>"
                    },
                    "metadata": {}
                }
            ]
        },
        {
            "metadata": {
                "scrolled": true
            },
            "cell_type": "code",
            "source": "train_data.info()",
            "execution_count": 42,
            "outputs": [
                {
                    "output_type": "stream",
                    "text": "<class 'pandas.core.frame.DataFrame'>\nRangeIndex: 614 entries, 0 to 613\nData columns (total 13 columns):\nLoan_ID              614 non-null object\nGender               614 non-null int64\nMarried              614 non-null int64\nDependents           614 non-null int64\nEducation            614 non-null int64\nSelf_Employed        614 non-null int64\nApplicantIncome      614 non-null int64\nCoapplicantIncome    614 non-null int64\nLoanAmount           592 non-null float64\nLoan_Amount_Term     600 non-null float64\nCredit_History       564 non-null float64\nProperty_Area        614 non-null object\nLoan_Status          614 non-null object\ndtypes: float64(3), int64(7), object(3)\nmemory usage: 62.4+ KB\n",
                    "name": "stdout"
                }
            ]
        },
        {
            "metadata": {},
            "cell_type": "markdown",
            "source": "##### Replcae Nan value to mean value of LoanAmount"
        },
        {
            "metadata": {},
            "cell_type": "code",
            "source": "LoanAmount_mean = train_data.LoanAmount.mean()\nLoanAmount_mean",
            "execution_count": 43,
            "outputs": [
                {
                    "output_type": "execute_result",
                    "execution_count": 43,
                    "data": {
                        "text/plain": "146.41216216216216"
                    },
                    "metadata": {}
                }
            ]
        },
        {
            "metadata": {},
            "cell_type": "code",
            "source": "for dataset in combine:\n    dataset['LoanAmount'] = dataset['LoanAmount'].fillna(LoanAmount_mean)",
            "execution_count": 44,
            "outputs": []
        },
        {
            "metadata": {},
            "cell_type": "code",
            "source": "for dataset in combine:\n    dataset['LoanAmount'] = dataset['LoanAmount'].astype(int)",
            "execution_count": 45,
            "outputs": []
        },
        {
            "metadata": {},
            "cell_type": "code",
            "source": "train_data.head()",
            "execution_count": 46,
            "outputs": [
                {
                    "output_type": "execute_result",
                    "execution_count": 46,
                    "data": {
                        "text/plain": "    Loan_ID  Gender  Married  Dependents  Education  Self_Employed  \\\n0  LP001002       0        0           0          1              0   \n1  LP001003       0        1           1          1              0   \n2  LP001005       0        1           0          1              1   \n3  LP001006       0        1           0          0              0   \n4  LP001008       0        0           0          1              0   \n\n   ApplicantIncome  CoapplicantIncome  LoanAmount  Loan_Amount_Term  \\\n0             5849                  0         146             360.0   \n1             4583               1508         128             360.0   \n2             3000                  0          66             360.0   \n3             2583               2358         120             360.0   \n4             6000                  0         141             360.0   \n\n   Credit_History Property_Area Loan_Status  \n0             1.0         Urban           Y  \n1             1.0         Rural           N  \n2             1.0         Urban           Y  \n3             1.0         Urban           Y  \n4             1.0         Urban           Y  ",
                        "text/html": "<div>\n<style scoped>\n    .dataframe tbody tr th:only-of-type {\n        vertical-align: middle;\n    }\n\n    .dataframe tbody tr th {\n        vertical-align: top;\n    }\n\n    .dataframe thead th {\n        text-align: right;\n    }\n</style>\n<table border=\"1\" class=\"dataframe\">\n  <thead>\n    <tr style=\"text-align: right;\">\n      <th></th>\n      <th>Loan_ID</th>\n      <th>Gender</th>\n      <th>Married</th>\n      <th>Dependents</th>\n      <th>Education</th>\n      <th>Self_Employed</th>\n      <th>ApplicantIncome</th>\n      <th>CoapplicantIncome</th>\n      <th>LoanAmount</th>\n      <th>Loan_Amount_Term</th>\n      <th>Credit_History</th>\n      <th>Property_Area</th>\n      <th>Loan_Status</th>\n    </tr>\n  </thead>\n  <tbody>\n    <tr>\n      <th>0</th>\n      <td>LP001002</td>\n      <td>0</td>\n      <td>0</td>\n      <td>0</td>\n      <td>1</td>\n      <td>0</td>\n      <td>5849</td>\n      <td>0</td>\n      <td>146</td>\n      <td>360.0</td>\n      <td>1.0</td>\n      <td>Urban</td>\n      <td>Y</td>\n    </tr>\n    <tr>\n      <th>1</th>\n      <td>LP001003</td>\n      <td>0</td>\n      <td>1</td>\n      <td>1</td>\n      <td>1</td>\n      <td>0</td>\n      <td>4583</td>\n      <td>1508</td>\n      <td>128</td>\n      <td>360.0</td>\n      <td>1.0</td>\n      <td>Rural</td>\n      <td>N</td>\n    </tr>\n    <tr>\n      <th>2</th>\n      <td>LP001005</td>\n      <td>0</td>\n      <td>1</td>\n      <td>0</td>\n      <td>1</td>\n      <td>1</td>\n      <td>3000</td>\n      <td>0</td>\n      <td>66</td>\n      <td>360.0</td>\n      <td>1.0</td>\n      <td>Urban</td>\n      <td>Y</td>\n    </tr>\n    <tr>\n      <th>3</th>\n      <td>LP001006</td>\n      <td>0</td>\n      <td>1</td>\n      <td>0</td>\n      <td>0</td>\n      <td>0</td>\n      <td>2583</td>\n      <td>2358</td>\n      <td>120</td>\n      <td>360.0</td>\n      <td>1.0</td>\n      <td>Urban</td>\n      <td>Y</td>\n    </tr>\n    <tr>\n      <th>4</th>\n      <td>LP001008</td>\n      <td>0</td>\n      <td>0</td>\n      <td>0</td>\n      <td>1</td>\n      <td>0</td>\n      <td>6000</td>\n      <td>0</td>\n      <td>141</td>\n      <td>360.0</td>\n      <td>1.0</td>\n      <td>Urban</td>\n      <td>Y</td>\n    </tr>\n  </tbody>\n</table>\n</div>"
                    },
                    "metadata": {}
                }
            ]
        },
        {
            "metadata": {},
            "cell_type": "markdown",
            "source": "##### Replcae categorial fetaure into numerical value which name is :\"Loan_amount_term\""
        },
        {
            "metadata": {},
            "cell_type": "code",
            "source": "train_data.Loan_Amount_Term.unique()",
            "execution_count": 47,
            "outputs": [
                {
                    "output_type": "execute_result",
                    "execution_count": 47,
                    "data": {
                        "text/plain": "array([360., 120., 240.,  nan, 180.,  60., 300., 480.,  36.,  84.,  12.])"
                    },
                    "metadata": {}
                }
            ]
        },
        {
            "metadata": {},
            "cell_type": "code",
            "source": "freq_occur_loan_amount_term = train_data.Loan_Amount_Term.mode()[0]\nfreq_occur_loan_amount_term",
            "execution_count": 48,
            "outputs": [
                {
                    "output_type": "execute_result",
                    "execution_count": 48,
                    "data": {
                        "text/plain": "360.0"
                    },
                    "metadata": {}
                }
            ]
        },
        {
            "metadata": {},
            "cell_type": "code",
            "source": "for dataset in combine:\n    dataset['Loan_Amount_Term']=dataset['Loan_Amount_Term'].fillna(freq_occur_loan_amount_term)",
            "execution_count": 49,
            "outputs": []
        },
        {
            "metadata": {},
            "cell_type": "code",
            "source": "for dataset in combine:\n    dataset['Loan_Amount_Term'] = dataset['Loan_Amount_Term'].astype(int)",
            "execution_count": 50,
            "outputs": []
        },
        {
            "metadata": {},
            "cell_type": "code",
            "source": "train_data.head()",
            "execution_count": 51,
            "outputs": [
                {
                    "output_type": "execute_result",
                    "execution_count": 51,
                    "data": {
                        "text/plain": "    Loan_ID  Gender  Married  Dependents  Education  Self_Employed  \\\n0  LP001002       0        0           0          1              0   \n1  LP001003       0        1           1          1              0   \n2  LP001005       0        1           0          1              1   \n3  LP001006       0        1           0          0              0   \n4  LP001008       0        0           0          1              0   \n\n   ApplicantIncome  CoapplicantIncome  LoanAmount  Loan_Amount_Term  \\\n0             5849                  0         146               360   \n1             4583               1508         128               360   \n2             3000                  0          66               360   \n3             2583               2358         120               360   \n4             6000                  0         141               360   \n\n   Credit_History Property_Area Loan_Status  \n0             1.0         Urban           Y  \n1             1.0         Rural           N  \n2             1.0         Urban           Y  \n3             1.0         Urban           Y  \n4             1.0         Urban           Y  ",
                        "text/html": "<div>\n<style scoped>\n    .dataframe tbody tr th:only-of-type {\n        vertical-align: middle;\n    }\n\n    .dataframe tbody tr th {\n        vertical-align: top;\n    }\n\n    .dataframe thead th {\n        text-align: right;\n    }\n</style>\n<table border=\"1\" class=\"dataframe\">\n  <thead>\n    <tr style=\"text-align: right;\">\n      <th></th>\n      <th>Loan_ID</th>\n      <th>Gender</th>\n      <th>Married</th>\n      <th>Dependents</th>\n      <th>Education</th>\n      <th>Self_Employed</th>\n      <th>ApplicantIncome</th>\n      <th>CoapplicantIncome</th>\n      <th>LoanAmount</th>\n      <th>Loan_Amount_Term</th>\n      <th>Credit_History</th>\n      <th>Property_Area</th>\n      <th>Loan_Status</th>\n    </tr>\n  </thead>\n  <tbody>\n    <tr>\n      <th>0</th>\n      <td>LP001002</td>\n      <td>0</td>\n      <td>0</td>\n      <td>0</td>\n      <td>1</td>\n      <td>0</td>\n      <td>5849</td>\n      <td>0</td>\n      <td>146</td>\n      <td>360</td>\n      <td>1.0</td>\n      <td>Urban</td>\n      <td>Y</td>\n    </tr>\n    <tr>\n      <th>1</th>\n      <td>LP001003</td>\n      <td>0</td>\n      <td>1</td>\n      <td>1</td>\n      <td>1</td>\n      <td>0</td>\n      <td>4583</td>\n      <td>1508</td>\n      <td>128</td>\n      <td>360</td>\n      <td>1.0</td>\n      <td>Rural</td>\n      <td>N</td>\n    </tr>\n    <tr>\n      <th>2</th>\n      <td>LP001005</td>\n      <td>0</td>\n      <td>1</td>\n      <td>0</td>\n      <td>1</td>\n      <td>1</td>\n      <td>3000</td>\n      <td>0</td>\n      <td>66</td>\n      <td>360</td>\n      <td>1.0</td>\n      <td>Urban</td>\n      <td>Y</td>\n    </tr>\n    <tr>\n      <th>3</th>\n      <td>LP001006</td>\n      <td>0</td>\n      <td>1</td>\n      <td>0</td>\n      <td>0</td>\n      <td>0</td>\n      <td>2583</td>\n      <td>2358</td>\n      <td>120</td>\n      <td>360</td>\n      <td>1.0</td>\n      <td>Urban</td>\n      <td>Y</td>\n    </tr>\n    <tr>\n      <th>4</th>\n      <td>LP001008</td>\n      <td>0</td>\n      <td>0</td>\n      <td>0</td>\n      <td>1</td>\n      <td>0</td>\n      <td>6000</td>\n      <td>0</td>\n      <td>141</td>\n      <td>360</td>\n      <td>1.0</td>\n      <td>Urban</td>\n      <td>Y</td>\n    </tr>\n  </tbody>\n</table>\n</div>"
                    },
                    "metadata": {}
                }
            ]
        },
        {
            "metadata": {},
            "cell_type": "markdown",
            "source": "##### Replcae categorial fetaure into numerical value which name is :\"credit_history\""
        },
        {
            "metadata": {},
            "cell_type": "code",
            "source": "train_data.Credit_History.unique()",
            "execution_count": 52,
            "outputs": [
                {
                    "output_type": "execute_result",
                    "execution_count": 52,
                    "data": {
                        "text/plain": "array([ 1.,  0., nan])"
                    },
                    "metadata": {}
                }
            ]
        },
        {
            "metadata": {},
            "cell_type": "code",
            "source": "freq_occur_credit_history = train_data.Credit_History.mode()[0]\nfreq_occur_credit_history",
            "execution_count": 53,
            "outputs": [
                {
                    "output_type": "execute_result",
                    "execution_count": 53,
                    "data": {
                        "text/plain": "1.0"
                    },
                    "metadata": {}
                }
            ]
        },
        {
            "metadata": {},
            "cell_type": "code",
            "source": "for dataset in combine:\n    dataset['Credit_History'] = dataset['Credit_History'].fillna(freq_occur_credit_history)",
            "execution_count": 54,
            "outputs": []
        },
        {
            "metadata": {},
            "cell_type": "code",
            "source": "for dataset in combine:\n    dataset['Credit_History'] = dataset['Credit_History'].astype(int)",
            "execution_count": 55,
            "outputs": []
        },
        {
            "metadata": {},
            "cell_type": "code",
            "source": "train_data.info()",
            "execution_count": 56,
            "outputs": [
                {
                    "output_type": "stream",
                    "text": "<class 'pandas.core.frame.DataFrame'>\nRangeIndex: 614 entries, 0 to 613\nData columns (total 13 columns):\nLoan_ID              614 non-null object\nGender               614 non-null int64\nMarried              614 non-null int64\nDependents           614 non-null int64\nEducation            614 non-null int64\nSelf_Employed        614 non-null int64\nApplicantIncome      614 non-null int64\nCoapplicantIncome    614 non-null int64\nLoanAmount           614 non-null int64\nLoan_Amount_Term     614 non-null int64\nCredit_History       614 non-null int64\nProperty_Area        614 non-null object\nLoan_Status          614 non-null object\ndtypes: int64(10), object(3)\nmemory usage: 62.4+ KB\n",
                    "name": "stdout"
                }
            ]
        },
        {
            "metadata": {},
            "cell_type": "markdown",
            "source": "##### Replcae categorial fetaure into numerical value which name is :\"Property_area\""
        },
        {
            "metadata": {},
            "cell_type": "code",
            "source": "train_data.Property_Area.unique()",
            "execution_count": 57,
            "outputs": [
                {
                    "output_type": "execute_result",
                    "execution_count": 57,
                    "data": {
                        "text/plain": "array(['Urban', 'Rural', 'Semiurban'], dtype=object)"
                    },
                    "metadata": {}
                }
            ]
        },
        {
            "metadata": {},
            "cell_type": "code",
            "source": "freq_occoured_property_area = train_data.Property_Area.mode()[0]\nfreq_occoured_property_area",
            "execution_count": 58,
            "outputs": [
                {
                    "output_type": "execute_result",
                    "execution_count": 58,
                    "data": {
                        "text/plain": "'Semiurban'"
                    },
                    "metadata": {}
                }
            ]
        },
        {
            "metadata": {},
            "cell_type": "code",
            "source": "for dataset in combine:\n    dataset['Property_Area'] = dataset['Property_Area'].fillna(freq_occoured_property_area)",
            "execution_count": 59,
            "outputs": []
        },
        {
            "metadata": {},
            "cell_type": "code",
            "source": "for dataset in combine:\n    dataset['Property_Area'] =  dataset['Property_Area'].map({'Urban':0,'Rural':1,'Semiurban':3}).astype(int)",
            "execution_count": 60,
            "outputs": []
        },
        {
            "metadata": {},
            "cell_type": "code",
            "source": "train_data.head()",
            "execution_count": 61,
            "outputs": [
                {
                    "output_type": "execute_result",
                    "execution_count": 61,
                    "data": {
                        "text/plain": "    Loan_ID  Gender  Married  Dependents  Education  Self_Employed  \\\n0  LP001002       0        0           0          1              0   \n1  LP001003       0        1           1          1              0   \n2  LP001005       0        1           0          1              1   \n3  LP001006       0        1           0          0              0   \n4  LP001008       0        0           0          1              0   \n\n   ApplicantIncome  CoapplicantIncome  LoanAmount  Loan_Amount_Term  \\\n0             5849                  0         146               360   \n1             4583               1508         128               360   \n2             3000                  0          66               360   \n3             2583               2358         120               360   \n4             6000                  0         141               360   \n\n   Credit_History  Property_Area Loan_Status  \n0               1              0           Y  \n1               1              1           N  \n2               1              0           Y  \n3               1              0           Y  \n4               1              0           Y  ",
                        "text/html": "<div>\n<style scoped>\n    .dataframe tbody tr th:only-of-type {\n        vertical-align: middle;\n    }\n\n    .dataframe tbody tr th {\n        vertical-align: top;\n    }\n\n    .dataframe thead th {\n        text-align: right;\n    }\n</style>\n<table border=\"1\" class=\"dataframe\">\n  <thead>\n    <tr style=\"text-align: right;\">\n      <th></th>\n      <th>Loan_ID</th>\n      <th>Gender</th>\n      <th>Married</th>\n      <th>Dependents</th>\n      <th>Education</th>\n      <th>Self_Employed</th>\n      <th>ApplicantIncome</th>\n      <th>CoapplicantIncome</th>\n      <th>LoanAmount</th>\n      <th>Loan_Amount_Term</th>\n      <th>Credit_History</th>\n      <th>Property_Area</th>\n      <th>Loan_Status</th>\n    </tr>\n  </thead>\n  <tbody>\n    <tr>\n      <th>0</th>\n      <td>LP001002</td>\n      <td>0</td>\n      <td>0</td>\n      <td>0</td>\n      <td>1</td>\n      <td>0</td>\n      <td>5849</td>\n      <td>0</td>\n      <td>146</td>\n      <td>360</td>\n      <td>1</td>\n      <td>0</td>\n      <td>Y</td>\n    </tr>\n    <tr>\n      <th>1</th>\n      <td>LP001003</td>\n      <td>0</td>\n      <td>1</td>\n      <td>1</td>\n      <td>1</td>\n      <td>0</td>\n      <td>4583</td>\n      <td>1508</td>\n      <td>128</td>\n      <td>360</td>\n      <td>1</td>\n      <td>1</td>\n      <td>N</td>\n    </tr>\n    <tr>\n      <th>2</th>\n      <td>LP001005</td>\n      <td>0</td>\n      <td>1</td>\n      <td>0</td>\n      <td>1</td>\n      <td>1</td>\n      <td>3000</td>\n      <td>0</td>\n      <td>66</td>\n      <td>360</td>\n      <td>1</td>\n      <td>0</td>\n      <td>Y</td>\n    </tr>\n    <tr>\n      <th>3</th>\n      <td>LP001006</td>\n      <td>0</td>\n      <td>1</td>\n      <td>0</td>\n      <td>0</td>\n      <td>0</td>\n      <td>2583</td>\n      <td>2358</td>\n      <td>120</td>\n      <td>360</td>\n      <td>1</td>\n      <td>0</td>\n      <td>Y</td>\n    </tr>\n    <tr>\n      <th>4</th>\n      <td>LP001008</td>\n      <td>0</td>\n      <td>0</td>\n      <td>0</td>\n      <td>1</td>\n      <td>0</td>\n      <td>6000</td>\n      <td>0</td>\n      <td>141</td>\n      <td>360</td>\n      <td>1</td>\n      <td>0</td>\n      <td>Y</td>\n    </tr>\n  </tbody>\n</table>\n</div>"
                    },
                    "metadata": {}
                }
            ]
        },
        {
            "metadata": {},
            "cell_type": "code",
            "source": "test_data.head()",
            "execution_count": 62,
            "outputs": [
                {
                    "output_type": "execute_result",
                    "execution_count": 62,
                    "data": {
                        "text/plain": "    Loan_ID  Gender  Married  Dependents  Education  Self_Employed  \\\n0  LP001015       0        1           0          1              0   \n1  LP001022       0        1           1          1              0   \n2  LP001031       0        1           2          1              0   \n3  LP001035       0        1           2          1              0   \n4  LP001051       0        0           0          0              0   \n\n   ApplicantIncome  CoapplicantIncome  LoanAmount  Loan_Amount_Term  \\\n0             5720                  0         110               360   \n1             3076               1500         126               360   \n2             5000               1800         208               360   \n3             2340               2546         100               360   \n4             3276                  0          78               360   \n\n   Credit_History  Property_Area  \n0               1              0  \n1               1              0  \n2               1              0  \n3               1              0  \n4               1              0  ",
                        "text/html": "<div>\n<style scoped>\n    .dataframe tbody tr th:only-of-type {\n        vertical-align: middle;\n    }\n\n    .dataframe tbody tr th {\n        vertical-align: top;\n    }\n\n    .dataframe thead th {\n        text-align: right;\n    }\n</style>\n<table border=\"1\" class=\"dataframe\">\n  <thead>\n    <tr style=\"text-align: right;\">\n      <th></th>\n      <th>Loan_ID</th>\n      <th>Gender</th>\n      <th>Married</th>\n      <th>Dependents</th>\n      <th>Education</th>\n      <th>Self_Employed</th>\n      <th>ApplicantIncome</th>\n      <th>CoapplicantIncome</th>\n      <th>LoanAmount</th>\n      <th>Loan_Amount_Term</th>\n      <th>Credit_History</th>\n      <th>Property_Area</th>\n    </tr>\n  </thead>\n  <tbody>\n    <tr>\n      <th>0</th>\n      <td>LP001015</td>\n      <td>0</td>\n      <td>1</td>\n      <td>0</td>\n      <td>1</td>\n      <td>0</td>\n      <td>5720</td>\n      <td>0</td>\n      <td>110</td>\n      <td>360</td>\n      <td>1</td>\n      <td>0</td>\n    </tr>\n    <tr>\n      <th>1</th>\n      <td>LP001022</td>\n      <td>0</td>\n      <td>1</td>\n      <td>1</td>\n      <td>1</td>\n      <td>0</td>\n      <td>3076</td>\n      <td>1500</td>\n      <td>126</td>\n      <td>360</td>\n      <td>1</td>\n      <td>0</td>\n    </tr>\n    <tr>\n      <th>2</th>\n      <td>LP001031</td>\n      <td>0</td>\n      <td>1</td>\n      <td>2</td>\n      <td>1</td>\n      <td>0</td>\n      <td>5000</td>\n      <td>1800</td>\n      <td>208</td>\n      <td>360</td>\n      <td>1</td>\n      <td>0</td>\n    </tr>\n    <tr>\n      <th>3</th>\n      <td>LP001035</td>\n      <td>0</td>\n      <td>1</td>\n      <td>2</td>\n      <td>1</td>\n      <td>0</td>\n      <td>2340</td>\n      <td>2546</td>\n      <td>100</td>\n      <td>360</td>\n      <td>1</td>\n      <td>0</td>\n    </tr>\n    <tr>\n      <th>4</th>\n      <td>LP001051</td>\n      <td>0</td>\n      <td>0</td>\n      <td>0</td>\n      <td>0</td>\n      <td>0</td>\n      <td>3276</td>\n      <td>0</td>\n      <td>78</td>\n      <td>360</td>\n      <td>1</td>\n      <td>0</td>\n    </tr>\n  </tbody>\n</table>\n</div>"
                    },
                    "metadata": {}
                }
            ]
        },
        {
            "metadata": {},
            "cell_type": "code",
            "source": "train_data.info()",
            "execution_count": 63,
            "outputs": [
                {
                    "output_type": "stream",
                    "text": "<class 'pandas.core.frame.DataFrame'>\nRangeIndex: 614 entries, 0 to 613\nData columns (total 13 columns):\nLoan_ID              614 non-null object\nGender               614 non-null int64\nMarried              614 non-null int64\nDependents           614 non-null int64\nEducation            614 non-null int64\nSelf_Employed        614 non-null int64\nApplicantIncome      614 non-null int64\nCoapplicantIncome    614 non-null int64\nLoanAmount           614 non-null int64\nLoan_Amount_Term     614 non-null int64\nCredit_History       614 non-null int64\nProperty_Area        614 non-null int64\nLoan_Status          614 non-null object\ndtypes: int64(11), object(2)\nmemory usage: 62.4+ KB\n",
                    "name": "stdout"
                }
            ]
        },
        {
            "metadata": {},
            "cell_type": "code",
            "source": "train_data.Loan_Status.unique()",
            "execution_count": 64,
            "outputs": [
                {
                    "output_type": "execute_result",
                    "execution_count": 64,
                    "data": {
                        "text/plain": "array(['Y', 'N'], dtype=object)"
                    },
                    "metadata": {}
                }
            ]
        },
        {
            "metadata": {},
            "cell_type": "markdown",
            "source": "#### Encode the label term"
        },
        {
            "metadata": {},
            "cell_type": "code",
            "source": "encode = LabelEncoder()",
            "execution_count": 66,
            "outputs": []
        },
        {
            "metadata": {},
            "cell_type": "code",
            "source": "train_data.Loan_Status = encode.fit_transform(train_data.Loan_Status)",
            "execution_count": 67,
            "outputs": []
        },
        {
            "metadata": {},
            "cell_type": "code",
            "source": "train_data.head()",
            "execution_count": 68,
            "outputs": [
                {
                    "output_type": "execute_result",
                    "execution_count": 68,
                    "data": {
                        "text/plain": "    Loan_ID  Gender  Married  Dependents  Education  Self_Employed  \\\n0  LP001002       0        0           0          1              0   \n1  LP001003       0        1           1          1              0   \n2  LP001005       0        1           0          1              1   \n3  LP001006       0        1           0          0              0   \n4  LP001008       0        0           0          1              0   \n\n   ApplicantIncome  CoapplicantIncome  LoanAmount  Loan_Amount_Term  \\\n0             5849                  0         146               360   \n1             4583               1508         128               360   \n2             3000                  0          66               360   \n3             2583               2358         120               360   \n4             6000                  0         141               360   \n\n   Credit_History  Property_Area  Loan_Status  \n0               1              0            1  \n1               1              1            0  \n2               1              0            1  \n3               1              0            1  \n4               1              0            1  ",
                        "text/html": "<div>\n<style scoped>\n    .dataframe tbody tr th:only-of-type {\n        vertical-align: middle;\n    }\n\n    .dataframe tbody tr th {\n        vertical-align: top;\n    }\n\n    .dataframe thead th {\n        text-align: right;\n    }\n</style>\n<table border=\"1\" class=\"dataframe\">\n  <thead>\n    <tr style=\"text-align: right;\">\n      <th></th>\n      <th>Loan_ID</th>\n      <th>Gender</th>\n      <th>Married</th>\n      <th>Dependents</th>\n      <th>Education</th>\n      <th>Self_Employed</th>\n      <th>ApplicantIncome</th>\n      <th>CoapplicantIncome</th>\n      <th>LoanAmount</th>\n      <th>Loan_Amount_Term</th>\n      <th>Credit_History</th>\n      <th>Property_Area</th>\n      <th>Loan_Status</th>\n    </tr>\n  </thead>\n  <tbody>\n    <tr>\n      <th>0</th>\n      <td>LP001002</td>\n      <td>0</td>\n      <td>0</td>\n      <td>0</td>\n      <td>1</td>\n      <td>0</td>\n      <td>5849</td>\n      <td>0</td>\n      <td>146</td>\n      <td>360</td>\n      <td>1</td>\n      <td>0</td>\n      <td>1</td>\n    </tr>\n    <tr>\n      <th>1</th>\n      <td>LP001003</td>\n      <td>0</td>\n      <td>1</td>\n      <td>1</td>\n      <td>1</td>\n      <td>0</td>\n      <td>4583</td>\n      <td>1508</td>\n      <td>128</td>\n      <td>360</td>\n      <td>1</td>\n      <td>1</td>\n      <td>0</td>\n    </tr>\n    <tr>\n      <th>2</th>\n      <td>LP001005</td>\n      <td>0</td>\n      <td>1</td>\n      <td>0</td>\n      <td>1</td>\n      <td>1</td>\n      <td>3000</td>\n      <td>0</td>\n      <td>66</td>\n      <td>360</td>\n      <td>1</td>\n      <td>0</td>\n      <td>1</td>\n    </tr>\n    <tr>\n      <th>3</th>\n      <td>LP001006</td>\n      <td>0</td>\n      <td>1</td>\n      <td>0</td>\n      <td>0</td>\n      <td>0</td>\n      <td>2583</td>\n      <td>2358</td>\n      <td>120</td>\n      <td>360</td>\n      <td>1</td>\n      <td>0</td>\n      <td>1</td>\n    </tr>\n    <tr>\n      <th>4</th>\n      <td>LP001008</td>\n      <td>0</td>\n      <td>0</td>\n      <td>0</td>\n      <td>1</td>\n      <td>0</td>\n      <td>6000</td>\n      <td>0</td>\n      <td>141</td>\n      <td>360</td>\n      <td>1</td>\n      <td>0</td>\n      <td>1</td>\n    </tr>\n  </tbody>\n</table>\n</div>"
                    },
                    "metadata": {}
                }
            ]
        },
        {
            "metadata": {},
            "cell_type": "code",
            "source": "train_data.info()",
            "execution_count": 69,
            "outputs": [
                {
                    "output_type": "stream",
                    "text": "<class 'pandas.core.frame.DataFrame'>\nRangeIndex: 614 entries, 0 to 613\nData columns (total 13 columns):\nLoan_ID              614 non-null object\nGender               614 non-null int64\nMarried              614 non-null int64\nDependents           614 non-null int64\nEducation            614 non-null int64\nSelf_Employed        614 non-null int64\nApplicantIncome      614 non-null int64\nCoapplicantIncome    614 non-null int64\nLoanAmount           614 non-null int64\nLoan_Amount_Term     614 non-null int64\nCredit_History       614 non-null int64\nProperty_Area        614 non-null int64\nLoan_Status          614 non-null int64\ndtypes: int64(12), object(1)\nmemory usage: 62.4+ KB\n",
                    "name": "stdout"
                }
            ]
        },
        {
            "metadata": {},
            "cell_type": "markdown",
            "source": "## Visualized data using plotting"
        },
        {
            "metadata": {},
            "cell_type": "code",
            "source": "",
            "execution_count": null,
            "outputs": []
        }
    ],
    "metadata": {
        "kernelspec": {
            "name": "python3",
            "display_name": "Python 3.6",
            "language": "python"
        },
        "language_info": {
            "name": "python",
            "version": "3.6.9",
            "mimetype": "text/x-python",
            "codemirror_mode": {
                "name": "ipython",
                "version": 3
            },
            "pygments_lexer": "ipython3",
            "nbconvert_exporter": "python",
            "file_extension": ".py"
        }
    },
    "nbformat": 4,
    "nbformat_minor": 1
}